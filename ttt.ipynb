{
 "cells": [
  {
   "cell_type": "code",
   "execution_count": null,
   "id": "00f4f4ab",
   "metadata": {},
   "outputs": [
    {
     "name": "stdout",
     "output_type": "stream",
     "text": [
      "hello yexuan\n",
      "hello world\n",
      "hello world2\n"
     ]
    }
   ],
   "source": [
    "print(\"hello yexuan\")\n",
    "\n",
    "\n",
    "print(\"hello world\")\n",
    "\n",
    "print(\"hello world2\")\n",
    "\n",
    "print(\"hello world3\")\n",
    "#!/usr/bin/env python3"
   ]
  }
 ],
 "metadata": {
  "kernelspec": {
   "display_name": "pytorch_GPU",
   "language": "python",
   "name": "python3"
  },
  "language_info": {
   "codemirror_mode": {
    "name": "ipython",
    "version": 3
   },
   "file_extension": ".py",
   "mimetype": "text/x-python",
   "name": "python",
   "nbconvert_exporter": "python",
   "pygments_lexer": "ipython3",
   "version": "3.12.11"
  }
 },
 "nbformat": 4,
 "nbformat_minor": 5
}
